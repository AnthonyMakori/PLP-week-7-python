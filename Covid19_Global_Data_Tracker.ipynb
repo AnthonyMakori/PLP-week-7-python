{
 "cells": [
  {
   "cell_type": "markdown",
   "id": "1f5c85ec",
   "metadata": {},
   "source": [
    "#  COVID-19 Global Data Tracker\n",
    "**Date generated:** 2025-08-24\n",
    "\n",
    "This notebook guides you through loading, cleaning, analyzing, and visualizing global COVID-19 data, with clear, reproducible steps and narrative blocks .\n",
    "\n",
    "**Data Source (recommended):** Our World in Data — `owid-covid-data.csv`  \n",
    "If you don't have the file locally, this notebook can attempt to download it for you.\n",
    "\n",
    "---\n",
    "\n",
    "## Accomplishments\n",
    "- Import and clean global COVID-19 data\n",
    "- Analyze time trends (cases, deaths, vaccinations)\n",
    "- Compare metrics across countries/regions\n",
    "- Visualize trends with charts and a world choropleth (optional)\n",
    "- Summarize findings with clear, concise insights"
   ]
  },
  {
   "cell_type": "markdown",
   "id": "7f503de1",
   "metadata": {},
   "source": [
    "## 0) Project Setup\n",
    "\n",
    "**Instructions**\n",
    "- If your environment blocks internet, manually download `owid-covid-data.csv`\n",
    "  from Our World in Data and place it in the same folder as this notebook.\n",
    "- Otherwise, the next cell can fetch it automatically."
   ]
  },
  {
   "cell_type": "code",
   "execution_count": null,
   "id": "2d3b4b52",
   "metadata": {},
   "outputs": [],
   "source": [
    "DATA_URL = \"https://covid.ourworldindata.org/data/owid-covid-data.csv\"\n",
    "DATA_FILE = \"owid-covid-data.csv\"\n",
    "\n",
    "SELECTED_COUNTRIES = [\"Kenya\", \"United States\", \"India\", \"United Kingdom\", \"Brazil\"]\n",
    "\n",
    "ROLLING_DAYS = 7\n",
    "\n",
    "print(\"Configured countries:\", SELECTED_COUNTRIES)"
   ]
  },
  {
   "cell_type": "markdown",
   "id": "c462791d",
   "metadata": {},
   "source": [
    "## 1) Data Collection & Loading"
   ]
  },
  {
   "cell_type": "code",
   "execution_count": null,
   "id": "98d3dc93",
   "metadata": {},
   "outputs": [],
   "source": [
    "import os\n",
    "import pandas as pd\n",
    "\n",
    "if not os.path.exists(DATA_FILE):\n",
    "    try:\n",
    "        import urllib.request\n",
    "        print(\"Downloading data from Our World in Data...\")\n",
    "        urllib.request.urlretrieve(DATA_URL, DATA_FILE)\n",
    "        print(\"Download complete:\", DATA_FILE)\n",
    "    except Exception as e:\n",
    "        print(\"Could not download automatically.\")\n",
    "        print(\"Error:\", e)\n",
    "        print(\"➡️ Please manually place 'owid-covid-data.csv' next to this notebook and re-run.\")\n",
    "\n",
    "df = pd.read_csv(DATA_FILE, parse_dates=[\"date\"])\n",
    "print(\"Rows:\", len(df), \"| Columns:\", len(df.columns))\n",
    "df.head(3)"
   ]
  },
  {
   "cell_type": "markdown",
   "id": "edbab242",
   "metadata": {},
   "source": [
    "### Quick Schema & Missing Values"
   ]
  },
  {
   "cell_type": "code",
   "execution_count": null,
   "id": "a1aa8bc9",
   "metadata": {},
   "outputs": [],
   "source": [
    "df.info()"
   ]
  },
  {
   "cell_type": "code",
   "execution_count": null,
   "id": "136203da",
   "metadata": {},
   "outputs": [],
   "source": [
    "miss = df.isna().sum().sort_values(ascending=False)\n",
    "miss.head(25)"
   ]
  },
  {
   "cell_type": "markdown",
   "id": "dcd83691",
   "metadata": {},
   "source": [
    "## 2) Data Cleaning\n",
    "\n",
    "**Goals**\n",
    "- Filter to countries of interest\n",
    "- Keep columns relevant to the analysis\n",
    "- Ensure date and numeric fields are in correct formats\n",
    "- Fill or interpolate missing values where suitable"
   ]
  },
  {
   "cell_type": "code",
   "execution_count": null,
   "id": "e7a3b0fc",
   "metadata": {},
   "outputs": [],
   "source": [
    "import numpy as np\n",
    "\n",
    "keep_cols = [\n",
    "    \"iso_code\",\"continent\",\"location\",\"date\",\n",
    "    \"total_cases\",\"new_cases\",\"total_deaths\",\"new_deaths\",\n",
    "    \"total_vaccinations\",\"people_vaccinated\",\"people_fully_vaccinated\",\n",
    "    \"total_boosters\",\"new_vaccinations\",\"population\",\"population_density\",\n",
    "    \"median_age\",\"aged_65_older\",\"aged_70_older\",\n",
    "    \"gdp_per_capita\",\"hospital_beds_per_thousand\",\n",
    "    \"life_expectancy\",\n",
    "    \"people_vaccinated_per_hundred\",\"people_fully_vaccinated_per_hundred\",\n",
    "    \"total_boosters_per_hundred\"\n",
    "]\n",
    "\n",
    "df_clean = df[keep_cols].copy()\n",
    "\n",
    "\n",
    "df_clean = df_clean[df_clean[\"location\"].isin(SELECTED_COUNTRIES)]\n",
    "\n",
    "\n",
    "df_clean = df_clean.sort_values([\"location\",\"date\"]).groupby(\"location\").apply(\n",
    "    lambda g: g.ffill()\n",
    ").reset_index(drop=True)\n",
    "\n",
    "\n",
    "num_cols = [\n",
    "    \"total_cases\",\"new_cases\",\"total_deaths\",\"new_deaths\",\n",
    "    \"total_vaccinations\",\"people_vaccinated\",\"people_fully_vaccinated\",\n",
    "    \"total_boosters\",\"new_vaccinations\",\"population\",\"population_density\",\n",
    "    \"median_age\",\"aged_65_older\",\"aged_70_older\",\"gdp_per_capita\",\n",
    "    \"hospital_beds_per_thousand\",\"life_expectancy\",\n",
    "    \"people_vaccinated_per_hundred\",\"people_fully_vaccinated_per_hundred\",\n",
    "    \"total_boosters_per_hundred\"\n",
    "]\n",
    "for c in num_cols:\n",
    "    if c in df_clean:\n",
    "        df_clean[c] = pd.to_numeric(df_clean[c], errors=\"coerce\")\n",
    "\n",
    "# Derive metrics\n",
    "df_clean[\"case_fatality_rate\"] = df_clean[\"total_deaths\"] / df_clean[\"total_cases\"]\n",
    "df_clean[\"new_cases_smoothed\"] = df_clean.groupby(\"location\")[\"new_cases\"].transform(\n",
    "    lambda s: s.rolling(ROLLING_DAYS, min_periods=1).mean()\n",
    ")\n",
    "df_clean[\"new_deaths_smoothed\"] = df_clean.groupby(\"location\")[\"new_deaths\"].transform(\n",
    "    lambda s: s.rolling(ROLLING_DAYS, min_periods=1).mean()\n",
    ")\n",
    "\n",
    "df_clean.head(3)"
   ]
  },
  {
   "cell_type": "markdown",
   "id": "e8af2cb2",
   "metadata": {},
   "source": [
    "## 3) Exploratory Data Analysis (EDA)\n",
    "\n",
    "We'll examine total cases & deaths over time, daily new cases (smoothed), and compute case fatality rates."
   ]
  },
  {
   "cell_type": "code",
   "execution_count": null,
   "id": "0aad2c1b",
   "metadata": {},
   "outputs": [],
   "source": [
    "import matplotlib.pyplot as plt\n",
    "\n",
    "def plot_timeseries(df_in, y, title, ylabel):\n",
    "    plt.figure(figsize=(10,5))\n",
    "    for country in SELECTED_COUNTRIES:\n",
    "        g = df_in[df_in[\"location\"]==country]\n",
    "        plt.plot(g[\"date\"], g[y], label=country)\n",
    "    plt.title(title)\n",
    "    plt.xlabel(\"Date\")\n",
    "    plt.ylabel(ylabel)\n",
    "    plt.legend()\n",
    "    plt.grid(True)\n",
    "    plt.show()\n",
    "\n",
    "plot_timeseries(df_clean, \"total_cases\", \"Total Cases Over Time\", \"Total cases\")"
   ]
  },
  {
   "cell_type": "code",
   "execution_count": null,
   "id": "b98512db",
   "metadata": {},
   "outputs": [],
   "source": [
    "plot_timeseries(df_clean, \"total_deaths\", \"Total Deaths Over Time\", \"Total deaths\")"
   ]
  },
  {
   "cell_type": "code",
   "execution_count": null,
   "id": "bb7bb5df",
   "metadata": {},
   "outputs": [],
   "source": [
    "plot_timeseries(df_clean, \"new_cases_smoothed\", f\"{ROLLING_DAYS}-Day Smoothed New Cases\", \"New cases (smoothed)\")"
   ]
  },
  {
   "cell_type": "markdown",
   "id": "13c7a399",
   "metadata": {},
   "source": [
    "### Death Rate (Case Fatality Ratio) Over Time"
   ]
  },
  {
   "cell_type": "code",
   "execution_count": null,
   "id": "e0eb2ac4",
   "metadata": {},
   "outputs": [],
   "source": [
    "plot_timeseries(df_clean, \"case_fatality_rate\", \"Case Fatality Rate Over Time\", \"CFR = total_deaths / total_cases\")"
   ]
  },
  {
   "cell_type": "markdown",
   "id": "0393c118",
   "metadata": {},
   "source": [
    "### Top Countries by Total Cases (Latest Date)"
   ]
  },
  {
   "cell_type": "code",
   "execution_count": null,
   "id": "0f3e122a",
   "metadata": {},
   "outputs": [],
   "source": [
    "latest_date = df[\"date\"].max()\n",
    "latest = df[df[\"date\"]==latest_date]\n",
    "top = latest[[\"location\",\"total_cases\",\"continent\"]].dropna(subset=[\"total_cases\"])\n",
    "top = top[~top[\"location\"].str.startswith(\"World\")]  \n",
    "top10 = top.sort_values(\"total_cases\", ascending=False).head(10)\n",
    "top10"
   ]
  },
  {
   "cell_type": "code",
   "execution_count": null,
   "id": "c4caf207",
   "metadata": {},
   "outputs": [],
   "source": [
    "plt.figure(figsize=(10,5))\n",
    "plt.bar(top10[\"location\"], top10[\"total_cases\"])\n",
    "plt.title(f\"Top 10 Countries by Total Cases on {latest_date.date()}\")\n",
    "plt.ylabel(\"Total cases\")\n",
    "plt.xticks(rotation=45, ha=\"right\")\n",
    "plt.grid(True, axis=\"y\")\n",
    "plt.tight_layout()\n",
    "plt.show()"
   ]
  },
  {
   "cell_type": "markdown",
   "id": "6f49a67f",
   "metadata": {},
   "source": [
    "## 4) Vaccination Progress\n",
    "\n",
    " visualize cumulative vaccinations and vaccination coverage where available."
   ]
  },
  {
   "cell_type": "code",
   "execution_count": null,
   "id": "e6bdd128",
   "metadata": {},
   "outputs": [],
   "source": [
    "plot_timeseries(df_clean, \"total_vaccinations\", \"Total Vaccinations Over Time\", \"Total vaccinations\")"
   ]
  },
  {
   "cell_type": "code",
   "execution_count": null,
   "id": "2ac06fb1",
   "metadata": {},
   "outputs": [],
   "source": [
    "plot_timeseries(df_clean, \"people_fully_vaccinated_per_hundred\", \"Fully Vaccinated (% of population)\", \"% fully vaccinated\")"
   ]
  },
  {
   "cell_type": "markdown",
   "id": "2888d316",
   "metadata": {},
   "source": [
    "## 5)  World Choropleth (Cases or Vaccination Rates)\n",
    "\n",
    "> Requires `plotly` (`pip install plotly`).  \n"
   ]
  },
  {
   "cell_type": "code",
   "execution_count": null,
   "id": "947ec570",
   "metadata": {},
   "outputs": [],
   "source": [
    "try:\n",
    "    import plotly.express as px\n",
    "\n",
    "    latest_date = df[\"date\"].max()\n",
    "    latest = df[df[\"date\"]==latest_date].copy()\n",
    "\n",
    "    metric = \"people_fully_vaccinated_per_hundred\" \n",
    "    title = f\"World Map — {metric.replace('_',' ').title()} on {latest_date.date()}\"\n",
    "\n",
    "    fig = px.choropleth(\n",
    "        latest,\n",
    "        locations=\"iso_code\",\n",
    "        color=metric,\n",
    "        hover_name=\"location\",\n",
    "        color_continuous_scale=\"Viridis\",\n",
    "        title=title\n",
    "    )\n",
    "    fig.show()\n",
    "except Exception as e:\n",
    "    print(\"Plotly not available or another issue occurred:\", e)\n",
    "    print(\"Install with: pip install plotly\")"
   ]
  },
  {
   "cell_type": "markdown",
   "id": "e61ebccf",
   "metadata": {},
   "source": [
    "## 6)  Quick Insights\n",
    "\n",
    "The cell below calculates a few ready-made bullets"
   ]
  },
  {
   "cell_type": "code",
   "execution_count": null,
   "id": "febce574",
   "metadata": {},
   "outputs": [],
   "source": [
    "import pandas as pd\n",
    "import numpy as np\n",
    "\n",
    "latest_date = df[\"date\"].max()\n",
    "latest = df[df[\"date\"]==latest_date].copy()\n",
    "\n",
    "def top_n(series, n=3, label=\"value\"):\n",
    "    s = series.dropna().sort_values(ascending=False).head(n)\n",
    "    return [f\"{i+1}. {idx}: {val:,.0f}\" for i, (idx, val) in enumerate(s.items())]\n",
    "\n",
    "insights = []\n",
    "\n",
    "total_cases_by_country = latest.set_index(\"location\")[\"total_cases\"]\n",
    "insights.append(f\"**Top countries by total cases on {latest_date.date()}:**\")\n",
    "insights.extend(top_n(total_cases_by_country, 3))\n",
    "\n",
    "vax_pct = latest.set_index(\"location\")[\"people_fully_vaccinated_per_hundred\"]\n",
    "insights.append(\"\")\n",
    "insights.append(\"**Top countries by % fully vaccinated (of those with data):**\")\n",
    "s = vax_pct.dropna().sort_values(ascending=False).head(3)\n",
    "for i, (loc, val) in enumerate(s.items(), 1):\n",
    "    insights.append(f\"{i}. {loc}: {val:.1f}%\")\n",
    "\n",
    "try:\n",
    "    last30 = df_clean.groupby(\"location\").apply(\n",
    "        lambda g: g[g[\"date\"] >= (g[\"date\"].max() - pd.Timedelta(days=30))]\n",
    "    ).reset_index(drop=True)\n",
    "\n",
    "    accel = last30.groupby(\"location\")[\"new_cases_smoothed\"].mean().sort_values(ascending=False)\n",
    "    insights.append(\"\")\n",
    "    insights.append(\"**Selected countries by average new cases (smoothed) over last 30 days:**\")\n",
    "    for i, (loc, val) in enumerate(accel.items(), 1):\n",
    "        insights.append(f\"{i}. {loc}: {val:,.0f} per day\")\n",
    "except Exception as e:\n",
    "    insights.append(\"Could not compute last-30-day acceleration due to data irregularities.\")\n",
    "\n",
    "print(\"\\n\".join(insights))"
   ]
  }
 ],
 "metadata": {
  "kernelspec": {
   "display_name": "Python 3",
   "language": "python",
   "name": "python3"
  },
  "language_info": {
   "name": "python",
   "pygments_lexer": "ipython3"
  }
 },
 "nbformat": 4,
 "nbformat_minor": 5
}
